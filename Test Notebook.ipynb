{
    "cells": [
        {
            "cell_type": "markdown",
            "metadata": {
                "collapsed": true
            },
            "source": "# My Jupyter Notebook on IBM Watson Studio"
        },
        {
            "cell_type": "markdown",
            "metadata": {},
            "source": "**Abhijeet Katore**\n\nStudent Persuing Bachalors in Computer Engineering"
        },
        {
            "cell_type": "markdown",
            "metadata": {},
            "source": "_I first heard about Data Science when I was in high school, I started surfing Internet, Youtube, Blogs and my interest and curious made me a Data Science entusiast._ "
        },
        {
            "cell_type": "markdown",
            "metadata": {},
            "source": "Below given code is the addition of two numbers \"1\" and \"2\"."
        },
        {
            "cell_type": "code",
            "execution_count": 2,
            "metadata": {},
            "outputs": [
                {
                    "data": {
                        "text/plain": "3"
                    },
                    "execution_count": 2,
                    "metadata": {},
                    "output_type": "execute_result"
                }
            ],
            "source": "1+2"
        },
        {
            "cell_type": "markdown",
            "metadata": {},
            "source": "list of items| Items | price\n--|--|--\n 2      | `Nirma` | 10 \n 3      | Namak      |   12 \n 2 | _Manjan_      |    1 "
        }
    ],
    "metadata": {
        "kernelspec": {
            "display_name": "Python 3.6",
            "language": "python",
            "name": "python3"
        },
        "language_info": {
            "codemirror_mode": {
                "name": "ipython",
                "version": 3
            },
            "file_extension": ".py",
            "mimetype": "text/x-python",
            "name": "python",
            "nbconvert_exporter": "python",
            "pygments_lexer": "ipython3",
            "version": "3.6.9"
        }
    },
    "nbformat": 4,
    "nbformat_minor": 1
}